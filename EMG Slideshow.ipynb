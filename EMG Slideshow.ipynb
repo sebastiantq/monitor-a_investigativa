{
 "cells": [
  {
   "cell_type": "markdown",
   "id": "54ed9efe-d797-4a74-a51c-c60c99c0116a",
   "metadata": {},
   "source": [
    "# EMG Slideshow"
   ]
  },
  {
   "cell_type": "markdown",
   "id": "9ca9fa0d-0ab0-4446-b552-a76483bfdaf2",
   "metadata": {},
   "source": [
    "El objetivo de esta sesión es hacer el cambio de diapositivas por medio de la lectura de los picos de señales EMG (generadas por la contracción muscular) conectando electrodos directamente a nuestra frente por medio de una banda especial como se observa en la siguiente imagen."
   ]
  },
  {
   "cell_type": "markdown",
   "id": "18ec47b9-a6f0-43a8-ad0e-72227f15564e",
   "metadata": {},
   "source": [
    "<p style=\"text-align:center;\">\n",
    "    <img src=\"images/slideshow/1.gif\" title=\"Funcionamiento esperado\" width=\"500\">\n",
    "</p>"
   ]
  },
  {
   "cell_type": "markdown",
   "id": "bdecd8e0-b6cd-4b88-be1c-4b37c45636f3",
   "metadata": {},
   "source": [
    "## Paso 1."
   ]
  },
  {
   "cell_type": "markdown",
   "id": "61844648-1f61-471c-b867-5b03d0ba7024",
   "metadata": {},
   "source": [
    "*Conectar los electrodos...*\n",
    "\n",
    "Configurar el kit de banda para la cabeza EEG, conectarlo a la Cyton board y leer los datos.\n",
    "\n",
    "*Continuar la redacción haciendolo a su vez con la placa*"
   ]
  },
  {
   "cell_type": "markdown",
   "id": "ffde0234-5511-4082-bec6-55ec2ac40383",
   "metadata": {},
   "source": [
    "## Paso 2."
   ]
  },
  {
   "cell_type": "markdown",
   "id": "a5188259-011c-4950-8e9c-62405108a1db",
   "metadata": {},
   "source": [
    "Descargar los paquetes necesarios para Python.\n",
    "\n",
    "Partiendo de la base de tener Python instalado, se requiere instalar además los paquetes **pylsl** y **pyautogui** ejecutando los siguientes comandos:\n",
    "\n",
    "Pysls: *python -m pip install pylsl*<br>\n",
    "Pyautogui: *python -m pip install pyautogui*"
   ]
  },
  {
   "cell_type": "markdown",
   "id": "7ed417c0-c15c-4c5e-a321-f2e079e979be",
   "metadata": {},
   "source": [
    "## Paso 3."
   ]
  },
  {
   "cell_type": "markdown",
   "id": "edbc5358-9721-4aff-bb66-4c8724936bac",
   "metadata": {},
   "source": [
    "Ejecutar el script a continuación."
   ]
  },
  {
   "cell_type": "code",
   "execution_count": null,
   "id": "b17af864-ccdf-4bfb-ad7d-532d04d20aad",
   "metadata": {},
   "outputs": [
    {
     "name": "stdout",
     "output_type": "stream",
     "text": [
      "Looking for an EMG stream...\n"
     ]
    }
   ],
   "source": [
    "\"\"\"Code modified from the example program to show how to read a multi-channel time series from LSL at https://github.com/OpenBCI/OpenBCI_GUI/blob/master/Networking-Test-Kit/LSL/lslStreamTest.py.\"\"\"\n",
    "\n",
    "from pylsl import StreamInlet, resolve_stream\n",
    "import pyautogui\n",
    "import time  \n",
    "\n",
    "# resolve an EMG stream on the lab network and notify the user\n",
    "print(\"Looking for an EMG stream...\")\n",
    "streams = resolve_stream('type', 'EMG')\n",
    "inlet = StreamInlet(streams[0])\n",
    "print(\"EMG stream found!\")\n",
    "\n",
    "# initialize thresholds and variables for storing time \n",
    "time_thres = 2000\n",
    "prev_time = 0\n",
    "blink_thres = 0.95\n",
    "\n",
    "while True:\n",
    "\n",
    "\tsample, timestamp = inlet.pull_sample() # get EMG data sample and its timestamp\n",
    "\n",
    "\tcurr_time = int(round(time.time() * 1000)) # get current time in milliseconds\n",
    "\n",
    "\tif ((sample[0] >=  blink_thres) & (curr_time - time_thres > prev_time)):  # if a blink is detected and enough time has gone by since the last blinking, press space\n",
    "\t\tprev_time = int(round(time.time() * 1000)) # update time \n",
    "\t\tpyautogui.press('space')\n",
    "\t\t"
   ]
  },
  {
   "cell_type": "markdown",
   "id": "cb7d4ea9-2c74-4d9c-86ce-7f3653ca91cc",
   "metadata": {},
   "source": [
    "## Paso 4."
   ]
  },
  {
   "cell_type": "markdown",
   "id": "2aa84207-2885-42e8-8671-7cf2ee451cb8",
   "metadata": {},
   "source": [
    "Comenzar el stream de datos por protocolo LSL desde la GUI de OpenBCI. Para esto se debe configurar la GUI tal como se ve en la imagen, muy importante, tener la ventana de EMG abierta antes de comenzar el stream.\n",
    "\n",
    "***Actualizar imagenes***"
   ]
  },
  {
   "cell_type": "markdown",
   "id": "df790b0d-13b9-4075-bcab-27261a9d205e",
   "metadata": {},
   "source": [
    "<p style=\"text-align:center;\">\n",
    "    <img src=\"images/scrolling/5.png\" title=\"OpenBCI GUI\" width=\"500\">\n",
    "</p>"
   ]
  },
  {
   "cell_type": "markdown",
   "id": "4358165c-6bf1-4444-92a2-175c190cd65c",
   "metadata": {},
   "source": [
    "Una vez tenemos la GUI configurada de esta manera, iniciamos el stream LSL por medio de la ventana de Networking, importante, escoger el protocolo LSL y el tipo de dato EMG."
   ]
  },
  {
   "cell_type": "markdown",
   "id": "31cc0489-c9ba-4d69-b85b-783f89635b96",
   "metadata": {},
   "source": [
    "<p style=\"text-align:center;\">\n",
    "    <img src=\"images/scrolling/6.png\" title=\"OpenBCI GUI\" width=\"500\">\n",
    "</p>"
   ]
  },
  {
   "cell_type": "markdown",
   "id": "b9276ba2-7060-4889-a867-efa21d6911a5",
   "metadata": {},
   "source": [
    "Una vez se ha ejecutado el stream, se debe ver en la ventana de ejecución del script algo similar a la siguiente imagen."
   ]
  },
  {
   "cell_type": "markdown",
   "id": "c1f79cb8-df28-4379-902b-f8703e5d1a18",
   "metadata": {},
   "source": [
    "<p style=\"text-align:center;\">\n",
    "    <img src=\"images/scrolling/7.png\" title=\"CMD\" width=\"500\">\n",
    "</p>"
   ]
  },
  {
   "cell_type": "markdown",
   "id": "8b700b7b-b45a-4b5d-9e77-db7a8995f84e",
   "metadata": {},
   "source": [
    "Si recibimos el mensaje de “EMG stream found!” ya podemos hacer uso de los electrodos para controlar cualquier presentación. Para ello solo resta abrirla y poner el modo Presentación. Por último, por medio de las variables time_thres y blink_thres se puede ajustar el tiempo de espera entre parpadeos y la intesidad de estos."
   ]
  },
  {
   "cell_type": "markdown",
   "id": "5d5e9b57-0dcf-4ce1-b8c3-3d177eeb27b0",
   "metadata": {},
   "source": [
    "## Ejercicio"
   ]
  },
  {
   "cell_type": "markdown",
   "id": "8a95133c-1934-4141-a8d1-b581707788e5",
   "metadata": {},
   "source": [
    "*To do...*"
   ]
  }
 ],
 "metadata": {
  "kernelspec": {
   "display_name": "Python 3 (ipykernel)",
   "language": "python",
   "name": "python3"
  },
  "language_info": {
   "codemirror_mode": {
    "name": "ipython",
    "version": 3
   },
   "file_extension": ".py",
   "mimetype": "text/x-python",
   "name": "python",
   "nbconvert_exporter": "python",
   "pygments_lexer": "ipython3",
   "version": "3.9.13"
  }
 },
 "nbformat": 4,
 "nbformat_minor": 5
}
