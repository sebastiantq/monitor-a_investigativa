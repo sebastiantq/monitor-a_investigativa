{
 "cells": [
  {
   "cell_type": "markdown",
   "id": "54ed9efe-d797-4a74-a51c-c60c99c0116a",
   "metadata": {},
   "source": [
    "# EMG Slideshow"
   ]
  },
  {
   "cell_type": "markdown",
   "id": "9ca9fa0d-0ab0-4446-b552-a76483bfdaf2",
   "metadata": {},
   "source": [
    "El objetivo de esta sesión es hacer el cambio de diapositivas por medio de la lectura de los picos de señales EMG (generadas por la contracción muscular) conectando electrodos directamente a nuestra frente por medio de una banda especial como se observa en la siguiente imagen."
   ]
  },
  {
   "cell_type": "markdown",
   "id": "18ec47b9-a6f0-43a8-ad0e-72227f15564e",
   "metadata": {},
   "source": [
    "<p style=\"text-align:center;\">\n",
    "    <img src=\"images/slideshow/1.gif\" title=\"Funcionamiento esperado\" width=\"500\">\n",
    "</p>"
   ]
  },
  {
   "cell_type": "markdown",
   "id": "bdecd8e0-b6cd-4b88-be1c-4b37c45636f3",
   "metadata": {},
   "source": [
    "## Paso 1."
   ]
  },
  {
   "cell_type": "markdown",
   "id": "61844648-1f61-471c-b867-5b03d0ba7024",
   "metadata": {},
   "source": [
    "Configurar el kit de banda para la cabeza EEG, conectarlo a la Cyton board y leer los datos.\n",
    "\n",
    "Para el ejercicio haremos uso de la banda para la cabeza, 2 cables de electrodos a presión, 2 electrodos planos (no confundir con los electrodos en punta de la tercera imágen de izquierda a derecha), 1 par de clips para las orejas y una placa Cyton."
   ]
  },
  {
   "cell_type": "markdown",
   "id": "8f0238ce-6919-4ef4-97e0-077d98fea716",
   "metadata": {},
   "source": [
    "<p style=\"text-align:center;\">\n",
    "    <img src=\"images/slideshow/kit.png\" title=\"Material\" width=\"500\">\n",
    "</p>"
   ]
  },
  {
   "cell_type": "markdown",
   "id": "5a79dd59-a945-43fd-815a-b9208fef2368",
   "metadata": {},
   "source": [
    "El uso de electrodos planos se debe a que leeremos señales producidas de la parte frontal de nuestra cabeza. Para una lectura de los puntos FT7/FT8, T7/T8, TP7/TP8, P7/P8, PO7/PO8, O1/O2 u Oz se deberían utilizar electrodos de peine."
   ]
  },
  {
   "cell_type": "markdown",
   "id": "ffde0234-5511-4082-bec6-55ec2ac40383",
   "metadata": {},
   "source": [
    "<p style=\"text-align:center;\">\n",
    "    <img src=\"images/slideshow/puntos.jpg\" title=\"Puntos\" width=\"300\">\n",
    "</p>"
   ]
  },
  {
   "cell_type": "markdown",
   "id": "507c87e3-3f1e-4c67-a110-0d81a809a31a",
   "metadata": {},
   "source": [
    "Procedemos a colocar la banda alrededor de la cabeza, como se muestra en el primer GIF.\n",
    "\n",
    "Acto seguido, posicionamos los 2 electrodos en los nodos FP1, y FP2. El nodo Fpz, aunque se muestra en la imágen, no lo utilizaremos en nuestro caso."
   ]
  },
  {
   "cell_type": "markdown",
   "id": "6da66129-f699-4819-b2f4-6e613a128181",
   "metadata": {},
   "source": [
    "<p style=\"text-align:center;\">\n",
    "    <img src=\"images/slideshow/puntos utilizados.png\" title=\"Puntos utilizados\" width=\"300\">\n",
    "</p>"
   ]
  },
  {
   "cell_type": "markdown",
   "id": "fdfdded4-51f4-42dc-bcae-e4a1da1b1570",
   "metadata": {},
   "source": [
    "Con los electrodos puestos en la banda, conectamos a presión los cables que irán hacia el canal N1P en nuestra Cyton Board."
   ]
  },
  {
   "cell_type": "markdown",
   "id": "eb001a93-29e8-40fb-931e-c6883c04c95f",
   "metadata": {},
   "source": [
    "Luego de conectar los electrodos de nuestra frente, procederemos a conectar los polos a tierra, poniendo un clip en cada oreja, teniendo como resultado dos cables que conectaremos al negativo de la placa, el canal AGND."
   ]
  },
  {
   "cell_type": "markdown",
   "id": "3002ea3b-d5a0-4393-8e04-7d9a90c36334",
   "metadata": {},
   "source": [
    "Obteniendo como resultado algo muy similar a la siguiente imágen, con la diferencia de que en nuestro caso ocuparemos por completo el canal AGND."
   ]
  },
  {
   "cell_type": "markdown",
   "id": "cd9e403f-ddc3-4e30-91ec-a1f044934546",
   "metadata": {},
   "source": [
    "<p style=\"text-align:center;\">\n",
    "    <img src=\"images/scrolling/2.jpg\" title=\"Conexiones\" width=\"500\">\n",
    "</p>"
   ]
  },
  {
   "cell_type": "markdown",
   "id": "ba04ea21-791d-4c18-ac36-ec46bcc9145d",
   "metadata": {},
   "source": [
    "## Paso 2."
   ]
  },
  {
   "cell_type": "markdown",
   "id": "a5188259-011c-4950-8e9c-62405108a1db",
   "metadata": {},
   "source": [
    "Descargar los paquetes necesarios para Python.\n",
    "\n",
    "Partiendo de la base de tener Python instalado, se requiere instalar además los paquetes **pylsl** y **pyautogui** ejecutando los siguientes comandos:\n",
    "\n",
    "Pylsl (No confundir con Pysls): *python -m pip install pylsl*<br>\n",
    "Pyautogui: *python -m pip install pyautogui*"
   ]
  },
  {
   "cell_type": "markdown",
   "id": "7ed417c0-c15c-4c5e-a321-f2e079e979be",
   "metadata": {},
   "source": [
    "## Paso 3."
   ]
  },
  {
   "cell_type": "markdown",
   "id": "edbc5358-9721-4aff-bb66-4c8724936bac",
   "metadata": {},
   "source": [
    "Ejecutar el script a continuación."
   ]
  },
  {
   "cell_type": "code",
   "execution_count": null,
   "id": "b17af864-ccdf-4bfb-ad7d-532d04d20aad",
   "metadata": {},
   "outputs": [
    {
     "name": "stdout",
     "output_type": "stream",
     "text": [
      "Looking for an EMG stream...\n"
     ]
    }
   ],
   "source": [
    "\"\"\"Code modified from the example program to show how to read a multi-channel time series from LSL at\n",
    "https://github.com/OpenBCI/OpenBCI_GUI/blob/master/Networking-Test-Kit/LSL/lslStreamTest.py.\"\"\"\n",
    "\n",
    "from pylsl import StreamInlet, resolve_stream\n",
    "import pyautogui\n",
    "import time\n",
    "\n",
    "# resolve an EMG stream on the lab network and notify the user\n",
    "print(\"Looking for an EMG stream...\")\n",
    "streams = resolve_stream('type', 'EMG')\n",
    "inlet = StreamInlet(streams[0])\n",
    "print(\"EMG stream found!\")\n",
    "\n",
    "# initialize thresholds and variables for storing time\n",
    "time_thres = 2000\n",
    "prev_time = 0\n",
    "blink_thres = 0.95\n",
    "\n",
    "while True:\n",
    "\tsample, timestamp = inlet.pull_sample() # get EMG data sample and its timestamp\n",
    "\n",
    "\tcurr_time = int(round(time.time() * 1000)) # get current time in milliseconds\n",
    "\n",
    "\tif(curr_time - time_thres > prev_time):\n",
    "\t\tif (sample[0] >=  blink_thres):  # if a blink is detected and enough time has gone by since the last blinking, press space\n",
    "\t\t\tprev_time = int(round(time.time() * 1000)) # update time\n",
    "\t\t\tpyautogui.press('space')\n"
   ]
  },
  {
   "cell_type": "markdown",
   "id": "cb7d4ea9-2c74-4d9c-86ce-7f3653ca91cc",
   "metadata": {},
   "source": [
    "## Paso 4."
   ]
  },
  {
   "cell_type": "markdown",
   "id": "2aa84207-2885-42e8-8671-7cf2ee451cb8",
   "metadata": {},
   "source": [
    "Comenzar el stream de datos por protocolo LSL desde la GUI de OpenBCI. Para esto se debe configurar la GUI tal como se ve en la imagen, muy importante, tener la ventana de EMG abierta antes de comenzar el stream."
   ]
  },
  {
   "cell_type": "markdown",
   "id": "df790b0d-13b9-4075-bcab-27261a9d205e",
   "metadata": {},
   "source": [
    "<p style=\"text-align:center;\">\n",
    "    <img src=\"images/slideshow/1.png\" title=\"OpenBCI GUI\" width=\"500\">\n",
    "</p>"
   ]
  },
  {
   "cell_type": "markdown",
   "id": "4358165c-6bf1-4444-92a2-175c190cd65c",
   "metadata": {},
   "source": [
    "Una vez tenemos la GUI configurada de esta manera, iniciamos el stream LSL por medio de la ventana de Networking, importante, escoger el protocolo LSL y el tipo de dato EMG."
   ]
  },
  {
   "cell_type": "markdown",
   "id": "31cc0489-c9ba-4d69-b85b-783f89635b96",
   "metadata": {},
   "source": [
    "<p style=\"text-align:center;\">\n",
    "    <img src=\"images/slideshow/2.png\" title=\"OpenBCI GUI\" width=\"500\">\n",
    "</p>"
   ]
  },
  {
   "cell_type": "markdown",
   "id": "b9276ba2-7060-4889-a867-efa21d6911a5",
   "metadata": {},
   "source": [
    "Una vez se ha ejecutado el stream, se debe ver en la ventana de ejecución del script algo similar a la siguiente imagen."
   ]
  },
  {
   "cell_type": "markdown",
   "id": "c1f79cb8-df28-4379-902b-f8703e5d1a18",
   "metadata": {},
   "source": [
    "<p style=\"text-align:center;\">\n",
    "    <img src=\"images/slideshow/3.png\" title=\"CMD\" width=\"500\">\n",
    "</p>"
   ]
  },
  {
   "cell_type": "markdown",
   "id": "8b700b7b-b45a-4b5d-9e77-db7a8995f84e",
   "metadata": {},
   "source": [
    "Si recibimos el mensaje de “EMG stream found!” ya podemos hacer uso de los electrodos para controlar cualquier presentación. Para ello solo resta abrirla y poner el modo Presentación. Por último, por medio de las variables time_thres y blink_thres se puede ajustar el tiempo de espera entre parpadeos y la intesidad de estos."
   ]
  },
  {
   "cell_type": "markdown",
   "id": "5d5e9b57-0dcf-4ce1-b8c3-3d177eeb27b0",
   "metadata": {},
   "source": [
    "## Ejercicio"
   ]
  },
  {
   "cell_type": "markdown",
   "id": "8a95133c-1934-4141-a8d1-b581707788e5",
   "metadata": {},
   "source": [
    "En este ejercicio haremos uso de la sesión anterior, poniendo en práctica de nuevo el código del scroll. Deberemos añadir 2 nuevos electrodos a la banda de nuestra cabeza, con la finalidad de leer los movimientos de la ceja izquierda con dos de los 4 electrodos, y de la ceja derecha con los electrodos restantes."
   ]
  },
  {
   "cell_type": "markdown",
   "id": "e68313e6-042b-43d5-b6bf-546f33265118",
   "metadata": {},
   "source": [
    "Una vez tengamos los electrodos instalados como se muestra en la siguiente imágen,"
   ]
  },
  {
   "cell_type": "markdown",
   "id": "a0318fef-50f6-432b-a743-460bfca0b38a",
   "metadata": {},
   "source": [
    "<p style=\"text-align:center;\">\n",
    "    <img src=\"images/slideshow/4.jpeg\" title=\"Conexiones banda de electrodos\" width=\"500\">\n",
    "</p>"
   ]
  },
  {
   "cell_type": "markdown",
   "id": "e4457e5b-2796-414e-a305-5f21d69c9c46",
   "metadata": {},
   "source": [
    "deberemos modificar el código, para que al detectar un movimiento de la ceja izquierda, vayamos a la diapositiva anterior y cuando detectemos un movimiento de la ceja derecha vayamos a la siguiente."
   ]
  }
 ],
 "metadata": {
  "kernelspec": {
   "display_name": "Python 3 (ipykernel)",
   "language": "python",
   "name": "python3"
  },
  "language_info": {
   "codemirror_mode": {
    "name": "ipython",
    "version": 3
   },
   "file_extension": ".py",
   "mimetype": "text/x-python",
   "name": "python",
   "nbconvert_exporter": "python",
   "pygments_lexer": "ipython3",
   "version": "3.9.13"
  }
 },
 "nbformat": 4,
 "nbformat_minor": 5
}
