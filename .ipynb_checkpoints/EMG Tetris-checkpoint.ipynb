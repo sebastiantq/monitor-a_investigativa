{
 "cells": [
  {
   "cell_type": "markdown",
   "id": "baac7f38-8ee6-4254-8020-3d536100f63a",
   "metadata": {},
   "source": [
    "# EMG Tetris"
   ]
  },
  {
   "cell_type": "markdown",
   "id": "603c59b5-8146-4bb4-9e4e-46d91c58258a",
   "metadata": {},
   "source": [
    "En este ejercicio controlaremos nuestro juego de Tetris por medio del acelerometro incorporado en la placa Cyton para medir los movimientos de la cabeza y los electrodos que miden las señales EMG producidas por el parpadeo para rotar las piezas."
   ]
  },
  {
   "cell_type": "markdown",
   "id": "fc588e80-f3fb-461b-b6f5-1fd5dc2785b3",
   "metadata": {},
   "source": [
    "<p style=\"text-align:center;\">\n",
    "    <iframe width=\"560\" height=\"315\" src=\"https://www.youtube.com/embed/VpeLf-K2Iro\" title=\"YouTube video player\" frameborder=\"0\" allow=\"accelerometer; autoplay; clipboard-write; encrypted-media; gyroscope; picture-in-picture\" allowfullscreen></iframe>\n",
    "</p>\n",
    "\n",
    "Enlace del video: *https://www.youtube.com/watch?v=VpeLf-K2Iro*"
   ]
  },
  {
   "cell_type": "markdown",
   "id": "3e78d364-2815-4008-999b-1f126f0a78cc",
   "metadata": {},
   "source": [
    "# Paso 1."
   ]
  },
  {
   "cell_type": "markdown",
   "id": "5f822b40-2dbe-42a6-9bbd-db740aa40bb9",
   "metadata": {},
   "source": [
    "*Conectar los electrodos...*\n",
    "\n",
    "Configurar la Ultracortex Mark IV para ensamblar y conectar correctamente los canales. Con el objetivo de transmitir los datos a la GUI de OpenBCI.\n",
    "\n",
    "*Continuar la redacción haciendolo a su vez con el casco*"
   ]
  },
  {
   "cell_type": "markdown",
   "id": "895420ca-d1d7-4629-8dbf-5bc628594034",
   "metadata": {},
   "source": [
    "# Paso 2."
   ]
  },
  {
   "cell_type": "markdown",
   "id": "2a550c94-2872-414c-9546-1da0fb35d65a",
   "metadata": {},
   "source": [
    "Descargar los paquetes necesarios para Python.\n",
    "\n",
    "Partiendo de la base de tener Python instalado, se requiere instalar además los paquetes **pyautogui**, **socket**, **sys**, **time**, **argparse**, **signal** y **json** ejecutando los siguientes comandos:\n",
    "\n",
    "Pyautogui: *python -m pip install pyautogui*<br>\n",
    "Socket: *python -m pip install ...*<br>\n",
    "Sys: *python -m pip install ...*<br>\n",
    "Time: *python -m pip install ...*<br>\n",
    "Argparse: *python -m pip install ...*<br>\n",
    "Signal: *python -m pip install ...*<br>\n",
    "JSON: *python -m pip install ...*"
   ]
  },
  {
   "cell_type": "markdown",
   "id": "47385218-92ca-4ab9-9cd0-b5f6782adaa4",
   "metadata": {},
   "source": [
    "# Paso 3."
   ]
  },
  {
   "cell_type": "markdown",
   "id": "5ede78b3-0b5f-47ed-89c3-744a79e6af1e",
   "metadata": {},
   "source": [
    "Transmitir los datos mediante UPD a traves de la GUI de OpenBCI.\n",
    "\n",
    "***Actualizar imagenes***"
   ]
  },
  {
   "cell_type": "markdown",
   "id": "4fa0c024-5b64-45fc-8c18-f83922137812",
   "metadata": {},
   "source": [
    "<p style=\"text-align:center;\">\n",
    "    <img src=\"images/scrolling/5.png\" title=\"OpenBCI GUI\" width=\"500\">\n",
    "</p>"
   ]
  },
  {
   "cell_type": "markdown",
   "id": "a4d5a48c-8d7f-42aa-9cbd-edcd34cab5cc",
   "metadata": {},
   "source": [
    "Una vez tenemos la GUI configurada de esta manera, iniciamos el stream LSL por medio de la ventana de Networking, importante, escoger el protocolo LSL y el tipo de dato EMG."
   ]
  },
  {
   "cell_type": "markdown",
   "id": "139a9770-61ae-4564-994c-0ee4eba14cbf",
   "metadata": {},
   "source": [
    "<p style=\"text-align:center;\">\n",
    "    <img src=\"images/scrolling/6.png\" title=\"OpenBCI GUI\" width=\"500\">\n",
    "</p>"
   ]
  },
  {
   "cell_type": "markdown",
   "id": "7ee00e99-e5dc-42fc-8275-e509bcf8ca78",
   "metadata": {},
   "source": [
    "# Paso 4."
   ]
  },
  {
   "cell_type": "markdown",
   "id": "4087359a-eff6-4a62-83e4-671a4d6a1a69",
   "metadata": {},
   "source": [
    "Ejecutar el script a continuación."
   ]
  },
  {
   "cell_type": "code",
   "execution_count": null,
   "id": "343cc51d-7dd4-4ce7-a8f2-bcf75f87b962",
   "metadata": {},
   "outputs": [],
   "source": [
    "import socket\n",
    "import sys\n",
    "import time\n",
    "import argparse\n",
    "import signal\n",
    "import json\n",
    "import pyautogui\n",
    "\n",
    "\"\"\"Code modified from the example program to show how to read a multi-channel time series from UDP at https://github.com/OpenBCI/OpenBCI_GUI/blob/master/Networking-Test-Kit/UDP/udp_receive.py.\"\"\"\n",
    "\n",
    "\"\"\" These variables can be changed if needed for changed controls on different Tetris websites. Refer to pyautogui documentation for \n",
    "more information on what keywords map to specific keys. https://pyautogui.readthedocs.io/en/latest/keyboard.html#keyboard-keys \"\"\"\n",
    "\n",
    "MOVE_PIECE_LEFT = \"left\"\n",
    "MOVE_PIECE_RIGHT = \"right\"\n",
    "DROP_PIECE = \"space\"\n",
    "ROTATE_PIECE = \"up\"\n",
    "\n",
    "\n",
    "# Clean exit from print mode\n",
    "def exit_print(signal, frame):\n",
    "    print(\"Closing listener\")\n",
    "    sys.exit(0)\n",
    "\n",
    "\n",
    "if __name__ == \"__main__\":\n",
    "    # Collect command line arguments\n",
    "    parser = argparse.ArgumentParser()\n",
    "    parser.add_argument(\"--ip\",\n",
    "                        default=\"127.0.0.1\", help=\"The ip to listen on\")\n",
    "    parser.add_argument(\"--port\",\n",
    "                        type=int, default=12345, help=\"The port to listen on\")\n",
    "    parser.add_argument(\"--address\", default=\"/openbci\", help=\"address to listen to\")\n",
    "    parser.add_argument(\"--option\", default=\"print\", help=\"Debugger option\")\n",
    "    parser.add_argument(\"--len\", default=8, help=\"Debugger option\")\n",
    "    args = parser.parse_args()\n",
    "\n",
    "    # Set up necessary parameters from command line\n",
    "    length = args.len\n",
    "    if args.option == \"print\":\n",
    "        signal.signal(signal.SIGINT, exit_print)\n",
    "\n",
    "    # Connect to socket\n",
    "    sock = socket.socket(socket.AF_INET, socket.SOCK_DGRAM, socket.IPPROTO_UDP)\n",
    "    sock.setsockopt(socket.SOL_SOCKET, socket.SO_REUSEADDR, 1)\n",
    "    server_address = (args.ip, args.port)\n",
    "    sock.bind(server_address)\n",
    "\n",
    "    # Display socket attributes\n",
    "    print('--------------------')\n",
    "    print(\"-- UDP LISTENER -- \")\n",
    "    print('--------------------')\n",
    "    print(\"IP:\", args.ip)\n",
    "    print(\"PORT:\", args.port)\n",
    "    print('--------------------')\n",
    "\n",
    "    # Receive messages\n",
    "    print(\"Calibration period, remain neutral...\")\n",
    "    start = time.time()\n",
    "    numSamples = 0\n",
    "    duration = 10\n",
    "    rotated = False\n",
    "    space_pressed = False\n",
    "    left_once = False\n",
    "    right_once = False\n",
    "    x_prev = 0\n",
    "    z_prev = 0\n",
    "\n",
    "    x_start_sum = 0\n",
    "    x_start_samples = 0\n",
    "    for y in range(150):\n",
    "        data, addr = sock.recvfrom(20000)  # buffer size is 20000 bytes\n",
    "        obj = json.loads(data.decode())\n",
    "        if obj.get('type') == 'accelerometer':\n",
    "            aux_data = obj.get('data')\n",
    "            x_start_sum += aux_data[0]\n",
    "            x_start_samples += 1\n",
    "\n",
    "    print(\"Calibration done. You may now begin Tetris!\")\n",
    "\n",
    "    x_start = x_start_sum / x_start_samples\n",
    "\n",
    "    while True:\n",
    "        data, addr = sock.recvfrom(20000)  # buffer size is 20000 bytes\n",
    "        if args.option == \"print\":\n",
    "            obj = json.loads(data.decode())\n",
    "            if obj.get('type') == 'accelerometer':\n",
    "                aux_data = obj.get('data')\n",
    "                x = aux_data[0]\n",
    "                z = aux_data[2]\n",
    "                if z > 0.5 and z_prev < z and not space_pressed:  # drop piece\n",
    "                    pyautogui.press('space')\n",
    "                    space_pressed = True\n",
    "                else:\n",
    "                    if 0.075 + x_start < x < 0.2 + x_start and not left_once:  # short left\n",
    "                        pyautogui.press('left')\n",
    "                        left_once = True\n",
    "                        space_pressed = False\n",
    "                    elif -0.075 + x_start > x > -0.2 + x_start and not right_once:  # short right\n",
    "                        pyautogui.press('right')\n",
    "                        right_once = True\n",
    "                        space_pressed = False\n",
    "                    elif x > 0.2 + x_start and x_prev < x:  # move left\n",
    "                        pyautogui.press('left')\n",
    "                        left_once = False\n",
    "                        space_pressed = False\n",
    "                    elif x < -0.2 + x_start and x_prev > x:  # move right\n",
    "                        pyautogui.press('right')\n",
    "                        right_once = False\n",
    "                        space_pressed = False\n",
    "                    elif -0.075 + x_start < x < 0.075 + x_start:  # head is neutral\n",
    "                        left_once = False\n",
    "                        right_once = False\n",
    "                        space_pressed = False\n",
    "                    elif z < 0.5:\n",
    "                        space_pressed = False\n",
    "                if z > 0.5:\n",
    "                    space_pressed = True\n",
    "                x_prev = x\n",
    "                z_prev = z\n",
    "            else:\n",
    "                emg_data = obj.get('data')\n",
    "                fp1 = emg_data[0]\n",
    "                fp2 = emg_data[1]\n",
    "                to_continue = 0\n",
    "                for i in range(2, 8):\n",
    "                    if emg_data[i] > 0.8:\n",
    "                        to_continue += 1\n",
    "                if (to_continue < 4):\n",
    "                    if fp2 < 0.9:\n",
    "                        rotated = False\n",
    "                    elif (fp2 > 0.9) and not rotated:\n",
    "                        pyautogui.press('up')\n",
    "                        rotated = True\n",
    "            numSamples += 1"
   ]
  },
  {
   "cell_type": "markdown",
   "id": "e17e93a2-0335-4192-95dc-53469a7f8725",
   "metadata": {},
   "source": [
    "Una vez ejecutado el script debemos de mantener la cabeza quieta durante los 10 segundos de calibración. Una vez recibido el mensaje \"Calibración completada. ¡Ahora puede comenzar Tetris!\", podemos acceder a cualquier juego de Tetris. Para la configuración presentada en el tutorial se recomienda la web *https://jstris.jezevec10.com*"
   ]
  },
  {
   "cell_type": "markdown",
   "id": "db66a962-6bf2-466b-9cf8-8f006b036aa4",
   "metadata": {},
   "source": [
    "## Ejercicio"
   ]
  },
  {
   "cell_type": "markdown",
   "id": "1d6d9861-6205-4263-890c-f63a4023c64e",
   "metadata": {},
   "source": [
    "*To do...*"
   ]
  }
 ],
 "metadata": {
  "kernelspec": {
   "display_name": "Python 3 (ipykernel)",
   "language": "python",
   "name": "python3"
  },
  "language_info": {
   "codemirror_mode": {
    "name": "ipython",
    "version": 3
   },
   "file_extension": ".py",
   "mimetype": "text/x-python",
   "name": "python",
   "nbconvert_exporter": "python",
   "pygments_lexer": "ipython3",
   "version": "3.9.13"
  }
 },
 "nbformat": 4,
 "nbformat_minor": 5
}
