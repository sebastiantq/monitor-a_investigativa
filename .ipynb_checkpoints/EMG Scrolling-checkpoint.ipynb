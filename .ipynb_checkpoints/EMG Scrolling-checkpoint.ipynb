{
 "cells": [
  {
   "cell_type": "markdown",
   "id": "147e9f8c-d43f-4008-bca9-5c04a8c501f4",
   "metadata": {},
   "source": [
    "# EMG Scrolling"
   ]
  },
  {
   "cell_type": "markdown",
   "id": "0256cd01-b238-4733-bd28-5042c46a5b42",
   "metadata": {},
   "source": [
    "El objetivo de esta sesión es hacer scroll en pantalla por medio de la lectura de los picos de señales EMG (generadas por la contracción muscular) conectando electrodos a los brazos como se observa en la siguiente imagen."
   ]
  },
  {
   "cell_type": "markdown",
   "id": "0242a47b-acd4-41bf-bed9-351e13a04069",
   "metadata": {},
   "source": [
    "<p style=\"text-align:center;\">\n",
    "    <img src=\"images/scrolling/1.gif\" title=\"Funcionamiento esperado\" width=\"500\">\n",
    "</p>"
   ]
  },
  {
   "cell_type": "markdown",
   "id": "120368a2-9a30-4962-a564-43b149f3fc7d",
   "metadata": {},
   "source": [
    "## Paso 1."
   ]
  },
  {
   "cell_type": "markdown",
   "id": "04928e10-6429-4728-9b83-5146257769fd",
   "metadata": {},
   "source": [
    "Configurar Cyton Board para trabajar con EMG.\n",
    "\n",
    "Para esto utilizaremos los canales análogos de la placa, conectando un electrodo por canal, para el ejercicio utilizaremos los canales N1P y N2P, conectaremos el positivo y negativo al canal (amarillo y verde) según se muestra en la imagen, por último un electrodo al pin AGND."
   ]
  },
  {
   "cell_type": "markdown",
   "id": "5565fb85-8c10-4f4b-a2eb-f5342a725705",
   "metadata": {},
   "source": [
    "<p style=\"text-align:center;\">\n",
    "    <img src=\"images/scrolling/2.jpg\" title=\"Conexiones\" width=\"500\">\n",
    "</p>"
   ]
  },
  {
   "cell_type": "markdown",
   "id": "97060e03-3bdf-44b7-8fe1-a81a2df4a37d",
   "metadata": {},
   "source": [
    "<p style=\"text-align:center;\">\n",
    "    <img src=\"images/scrolling/3.jpg\" title=\"Conexión de electrodos para un solo canal\" width=\"500\">\n",
    "</p>\n",
    "\n",
    "*Conexión de electrodos para un solo canal*"
   ]
  },
  {
   "cell_type": "markdown",
   "id": "133a5760-0091-4032-9942-4a57e45ac592",
   "metadata": {},
   "source": [
    "## Paso 2."
   ]
  },
  {
   "cell_type": "markdown",
   "id": "f29b1582-3f23-4f4a-adf9-fe6c77268a26",
   "metadata": {},
   "source": [
    "Descargar los paquetes necesarios para Python.\n",
    "\n",
    "Partiendo de la base de tener Python instalado, se requiere instalar además los paquetes **pylsl** y **pyautogui** ejecutando los siguientes comandos:\n",
    "\n",
    "Pysls: *python -m pip install pylsl*<br>\n",
    "Pyautogui: *python -m pip install pyautogui*"
   ]
  },
  {
   "cell_type": "markdown",
   "id": "bda38ff2-15ab-40cd-b30f-396fe7b9b812",
   "metadata": {},
   "source": [
    "## Paso 3."
   ]
  },
  {
   "cell_type": "markdown",
   "id": "5d8510aa-b972-4299-a98f-46bb598f136b",
   "metadata": {},
   "source": [
    "Ejecutar el script a continuación."
   ]
  },
  {
   "cell_type": "code",
   "execution_count": null,
   "id": "5e284420-ae6e-4ace-8145-5b51a990c2ea",
   "metadata": {},
   "outputs": [
    {
     "name": "stdout",
     "output_type": "stream",
     "text": [
      "Looking for an EMG stream...\n"
     ]
    }
   ],
   "source": [
    "\"\"\"Code modified from the example program to show how to read a multi-channel time series from LSL at \n",
    "https://github.com/OpenBCI/OpenBCI_GUI/blob/master/Networking-Test-Kit/LSL/lslStreamTest.py.\"\"\"\n",
    "\n",
    "from pylsl import StreamInlet, resolve_stream\n",
    "import pyautogui\n",
    "import time  \n",
    "\n",
    "# resolve an EMG stream on the lab network and notify the user\n",
    "print(\"Looking for an EMG stream...\")\n",
    "streams = resolve_stream('type', 'EMG')\n",
    "inlet = StreamInlet(streams[0])\n",
    "print(\"EMG stream found!\")\n",
    "\n",
    "# initialize thresholds and variables for storing time \n",
    "prev_time = 0\n",
    "flex_thres = 1.0\n",
    "\n",
    "while True:\n",
    "\n",
    "\tsample, timestamp = inlet.pull_sample() # get EMG data sample and its timestamp\n",
    "\n",
    "\tcurr_time = int(round(time.time() * 1000)) # get current time in milliseconds\n",
    "\n",
    "\n",
    "\tif (((sample[1] >= flex_thres) or (sample[0] >= flex_thres))): # if an EMG peak is detected from any of the arms \n",
    "\n",
    "\t\tprev_time = int(round(time.time() * 1000)) # update time \n",
    "\t\t\n",
    "\t\tif(sample[1] > sample[0]): # scroll up or down depending on which peak is larger\n",
    "\t\t\tpyautogui.scroll(50)\n",
    "\t\telse:\n",
    "\t\t\tpyautogui.scroll(-50)\n"
   ]
  },
  {
   "cell_type": "markdown",
   "id": "238895dc-1050-4e81-9731-9339f7fe7f10",
   "metadata": {},
   "source": [
    "Se debe ver algo similar a la siguiente imagen."
   ]
  },
  {
   "cell_type": "markdown",
   "id": "772acc30-b11e-464d-8a8d-91277432b773",
   "metadata": {},
   "source": [
    "<p style=\"text-align:center;\">\n",
    "    <img src=\"images/scrolling/4.png\" title=\"CMD\" width=\"500\">\n",
    "</p>"
   ]
  },
  {
   "cell_type": "markdown",
   "id": "1890ec4a-a9c9-4cc1-b804-d23fcf156aed",
   "metadata": {},
   "source": [
    "## Paso 4."
   ]
  },
  {
   "cell_type": "markdown",
   "id": "0d51c594-71b3-40fd-a710-360c24fed291",
   "metadata": {},
   "source": [
    "Comenzar el stream de datos por protocolo LSL desde la GUI de OpenBCI. Para esto se debe configurar la GUI tal como se ve en la imagen, muy importante, tener la ventana de EMG abierta antes de comenzar el stream."
   ]
  },
  {
   "cell_type": "markdown",
   "id": "00bf3196-18bc-4283-90f1-1aafedc722f8",
   "metadata": {},
   "source": [
    "<p style=\"text-align:center;\">\n",
    "    <img src=\"images/scrolling/5.png\" title=\"OpenBCI GUI\" width=\"500\">\n",
    "</p>"
   ]
  },
  {
   "cell_type": "markdown",
   "id": "c26f609c-32ce-40e7-a29a-d730a1ad57b4",
   "metadata": {},
   "source": [
    "Una vez tenemos la GUI configurada de esta manera, iniciamos el stream LSL por medio de la ventana de Networking, importante, escoger el protocolo LSL y el tipo de dato EMG."
   ]
  },
  {
   "cell_type": "markdown",
   "id": "62879121-16dd-4a95-b6d7-24e14afe0fac",
   "metadata": {},
   "source": [
    "<p style=\"text-align:center;\">\n",
    "    <img src=\"images/scrolling/6.png\" title=\"OpenBCI GUI\" width=\"500\">\n",
    "</p>"
   ]
  },
  {
   "cell_type": "markdown",
   "id": "ab5e0c2d-f84c-4648-b4b2-81ab6c59a85a",
   "metadata": {},
   "source": [
    "Una vez se ha ejecutado el stream, se debe ver en la ventana de ejecución del script algo similar a la siguiente imagen."
   ]
  },
  {
   "cell_type": "markdown",
   "id": "a741fd74-301e-4b05-9083-202f7199d431",
   "metadata": {},
   "source": [
    "<p style=\"text-align:center;\">\n",
    "    <img src=\"images/scrolling/7.png\" title=\"CMD\" width=\"500\">\n",
    "</p>"
   ]
  },
  {
   "cell_type": "markdown",
   "id": "64af5c88-4975-401a-89ef-6669855fed61",
   "metadata": {},
   "source": [
    "Si recibimos el mensaje de “EMG stream found!” ya podemos hacer uso del scroll en cualquier programa por medio de los electrodos conectados a la placa de OpenBCI."
   ]
  },
  {
   "cell_type": "markdown",
   "id": "94cf9ca4-b46d-491e-bf9c-e62f71f36bfc",
   "metadata": {},
   "source": [
    "## Ejercicio"
   ]
  },
  {
   "cell_type": "markdown",
   "id": "24ff4848-acad-462a-b6fb-1aae89cbdaa5",
   "metadata": {},
   "source": [
    "*To do...*"
   ]
  }
 ],
 "metadata": {
  "kernelspec": {
   "display_name": "Python 3 (ipykernel)",
   "language": "python",
   "name": "python3"
  },
  "language_info": {
   "codemirror_mode": {
    "name": "ipython",
    "version": 3
   },
   "file_extension": ".py",
   "mimetype": "text/x-python",
   "name": "python",
   "nbconvert_exporter": "python",
   "pygments_lexer": "ipython3",
   "version": "3.9.13"
  }
 },
 "nbformat": 4,
 "nbformat_minor": 5
}
