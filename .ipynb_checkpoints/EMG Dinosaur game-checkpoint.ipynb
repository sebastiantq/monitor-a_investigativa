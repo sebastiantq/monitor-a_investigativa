{
 "cells": [
  {
   "cell_type": "markdown",
   "id": "21a7293b-f85a-4c09-a2a3-9f096f9401a1",
   "metadata": {},
   "source": [
    "# EMG Dinosaur game"
   ]
  },
  {
   "cell_type": "markdown",
   "id": "0a7c4763-df3f-46fa-8ad9-67e10226e32a",
   "metadata": {},
   "source": [
    "En este ejercicio controlaremos el juego del dinosaurio incorporado en el navegador de Google Chrome por medio de la lectura de señales EMG (generadas por la contracción muscular). Detectando si han pasado 100 milisegundos entre la actual y la anterior contracción, y de ser así, saltará pulsando la barra espaciadora."
   ]
  },
  {
   "cell_type": "markdown",
   "id": "778a9263-e519-4600-b349-999ebd004a2f",
   "metadata": {},
   "source": [
    "<p style=\"text-align:center;\">\n",
    "    <img src=\"images/dinosaur/1.gif\" title=\"Conexiones\" width=\"200\">\n",
    "</p>"
   ]
  },
  {
   "cell_type": "markdown",
   "id": "c8aef348-d6d3-4dec-b929-abfd97e8c168",
   "metadata": {},
   "source": [
    "## Paso 1."
   ]
  },
  {
   "cell_type": "markdown",
   "id": "b005b53d-ba40-428b-b024-69bc94f28f7c",
   "metadata": {},
   "source": [
    "Configurar Cyton Board para trabajar con EMG.\n",
    "\n",
    "Para esto utilizaremos uno los canales análogos de la placa, conectando un electrodo y tierra a un canal. Para el ejercicio utilizaremos el canal N1P, conectaremos el positivo y negativo al canal (amarillo y verde) según se muestra en la imagen, por último un electrodo al pin AGND."
   ]
  },
  {
   "cell_type": "markdown",
   "id": "0f042349-27cf-4275-b863-72007a503b62",
   "metadata": {},
   "source": [
    "<p style=\"text-align:center;\">\n",
    "    <img src=\"images/scrolling/2.jpg\" title=\"Conexiones\" width=\"500\">\n",
    "</p>"
   ]
  },
  {
   "cell_type": "markdown",
   "id": "d7919dca-6776-4df1-b032-dbf5a06d61e7",
   "metadata": {},
   "source": [
    "## Paso 2."
   ]
  },
  {
   "cell_type": "markdown",
   "id": "d20104bd-4fe8-4fd5-a602-8b44c36fa652",
   "metadata": {},
   "source": [
    "Descargar los paquetes necesarios para Python.\n",
    "\n",
    "Partiendo de la base de tener Python instalado, se requiere instalar además los paquetes **pylsl**, **pyautogui**, **brainflow** y **numpy** ejecutando los siguientes comandos:\n",
    "\n",
    "Pysls: *python -m pip install pylsl*<br>\n",
    "Pyautogui: *python -m pip install pyautogui*<br>\n",
    "Brainflow: *python -m pip install brainflow*<br>\n",
    "Numpy: *python -m pip install numpy*"
   ]
  },
  {
   "cell_type": "markdown",
   "id": "73da384e-e11a-419b-82dc-e16290cf05df",
   "metadata": {},
   "source": [
    "## Paso 3."
   ]
  },
  {
   "cell_type": "markdown",
   "id": "0b164b26-b3a7-4b2c-98b8-602a69250dd4",
   "metadata": {},
   "source": [
    "Seleccione uno de los dos scripts a continuación y guardelo en un archivo con extensión .py"
   ]
  },
  {
   "cell_type": "markdown",
   "id": "128370ef-d28d-4595-8099-fd5908903ed2",
   "metadata": {},
   "source": [
    "Este segundo script elimina el ruido de la señal, lo cuadra y establece un umbral para detectar los picos. En caso de utilizar este script y obtener valores impresos negativos, invertir los electrodos N y P y repetir la calibración para obtener un valor medio positivo. "
   ]
  },
  {
   "cell_type": "code",
   "execution_count": null,
   "id": "7e54c94f-892e-4b6c-be1e-f063aad81e95",
   "metadata": {},
   "outputs": [],
   "source": [
    "import argparse\n",
    "import time\n",
    "import numpy as np\n",
    "import collections\n",
    "import pyautogui\n",
    "import pandas as pd\n",
    "import matplotlib.pyplot as plt\n",
    "\n",
    "import brainflow\n",
    "from brainflow.board_shim import BoardShim, BrainFlowInputParams\n",
    "from brainflow.data_filter import DataFilter, FilterTypes, AggOperations, WindowFunctions\n",
    "\n",
    "\n",
    "def main ():\n",
    "    parser = argparse.ArgumentParser ()\n",
    "    \n",
    "    # use docs to check which parameters are required for specific board, e.g. for Cyton - set serial port\n",
    "    parser.add_argument ('--timeout', type = int, help  = 'timeout for device discovery or connection', required = False, default = 0)\n",
    "    parser.add_argument ('--ip-port', type = int, help  = 'ip port', required = False, default = 0)\n",
    "    parser.add_argument ('--ip-protocol', type = int, help  = 'ip protocol, check IpProtocolType enum', required = False, default = 0)\n",
    "    parser.add_argument ('--ip-address', type = str, help  = 'ip address', required = False, default = '')\n",
    "    parser.add_argument ('--serial-port', type = str, help  = 'serial port', required = False, default = '')\n",
    "    parser.add_argument ('--mac-address', type = str, help  = 'mac address', required = False, default = '')\n",
    "    parser.add_argument ('--other-info', type = str, help  = 'other info', required = False, default = '')\n",
    "    parser.add_argument ('--streamer-params', type = str, help  = 'streamer params', required = False, default = '')\n",
    "    parser.add_argument ('--serial-number', type = str, help  = 'serial number', required = False, default = '')\n",
    "    parser.add_argument ('--board-id', type = int, help  = 'board id, check docs to get a list of supported boards', required = True)\n",
    "    parser.add_argument ('--log', action = 'store_true')\n",
    "    args = parser.parse_args ()\n",
    "\n",
    "    params = BrainFlowInputParams ()\n",
    "    params.ip_port = args.ip_port\n",
    "    params.serial_port = args.serial_port\n",
    "    params.mac_address = args.mac_address\n",
    "    params.other_info = args.other_info\n",
    "    params.serial_number = args.serial_number\n",
    "    params.ip_address = args.ip_address\n",
    "    params.ip_protocol = args.ip_protocol\n",
    "    params.timeout = args.timeout\n",
    "\n",
    "    # initialize calibration and time variables\n",
    "    time_thres =  100\n",
    "    max_val = -100000000000\n",
    "    vals_mean = 0\n",
    "    num_samples = 5000\n",
    "    samples = 0\n",
    "\n",
    "    if (args.log):\n",
    "        BoardShim.enable_dev_board_logger ()\n",
    "    else:\n",
    "        BoardShim.disable_board_logger ()\n",
    "\n",
    "    board = BoardShim (args.board_id, params)\n",
    "    board.prepare_session ()\n",
    "\n",
    "\n",
    "    # turn off SRB2 in Channel 1\n",
    "    if args.board_id == brainflow.board_shim.BoardIds.CYTON_BOARD.value:\n",
    "        board.config_board ('x1060000X')\n",
    "\n",
    "    board.start_stream (45000, args.streamer_params)\n",
    "\n",
    "    # start calibration\n",
    "\n",
    "    print(\"Starting calibration\")\n",
    "    time.sleep(5) # wait for data to stabilize\n",
    "    data = board.get_board_data() # clear buffer\n",
    "\n",
    "    print(\"Relax and flex your arm a few times\")\n",
    "\n",
    "    while(samples < num_samples):\n",
    "\n",
    "        data = board.get_board_data() # get data\n",
    "        if(len(data[1]) > 0):\n",
    "            DataFilter.perform_rolling_filter (data[1], 2, AggOperations.MEAN.value) # denoise data\n",
    "            vals_mean += sum([data[1,i]/num_samples for i in range(len(data[1]))]) # update mean\n",
    "            samples += len(data[1])\n",
    "            if(np.amax(data[1]) > max_val):\n",
    "                max_val = np.amax(data[1]) # update max\n",
    "\n",
    "    flex_thres = 0.5*((max_val - vals_mean)**2) # calculate flex threshold - percentage needs to be set per person\n",
    "\n",
    "    print(\"Mean Value\")\n",
    "    print(vals_mean)\n",
    "    print(\"Max Value\")\n",
    "    print(max_val)\n",
    "    print(\"Threshold\")\n",
    "    print(flex_thres)\n",
    "\n",
    "    # end calibration\n",
    "\n",
    "    # start game\n",
    "\n",
    "    print(\"Calibration complete. Start!\")\n",
    "    prev_time = int(round(time.time() * 1000))\n",
    "\n",
    "    while True:\n",
    "\n",
    "        data = board.get_board_data() # get data \n",
    "\n",
    "        if(len(data[1]) > 0):\n",
    "            DataFilter.perform_rolling_filter (data[1], 2, AggOperations.MEAN.value) # denoise data\n",
    "            if((int(round(time.time() * 1000)) - time_thres) > prev_time): # if enough time has gone by since the last flex\n",
    "                prev_time = int(round(time.time() * 1000)) # update time\n",
    "                for element in data[1]:\n",
    "                    if(((element - vals_mean)**2) >= flex_thres): # if above threshold\n",
    "                        pyautogui.press('space') # jump\n",
    "                        break\n",
    "\n",
    "    board.stop_stream ()\n",
    "    board.release_session ()\n",
    "\n",
    "\n",
    "if __name__ == \"__main__\":\n",
    "    main ()"
   ]
  },
  {
   "cell_type": "markdown",
   "id": "f5552a9d-bc5b-4003-ae75-c62f16a3a01f",
   "metadata": {},
   "source": [
    "Este segundo script elimina el ruido de la señal y luego... **falta ejecutarlo**"
   ]
  },
  {
   "cell_type": "code",
   "execution_count": null,
   "id": "4e89952f-bb20-4f17-a59a-4a36aadbe4bb",
   "metadata": {},
   "outputs": [],
   "source": [
    "import argparse\n",
    "import time\n",
    "import numpy as np\n",
    "import collections\n",
    "import pyautogui\n",
    "import pandas as pd\n",
    "import matplotlib.pyplot as plt\n",
    "\n",
    "import brainflow\n",
    "from brainflow.board_shim import BoardShim, BrainFlowInputParams\n",
    "from brainflow.data_filter import DataFilter, FilterTypes, AggOperations, WindowFunctions\n",
    "\n",
    "\n",
    "def main ():\n",
    "    parser = argparse.ArgumentParser ()\n",
    "    \n",
    "    # use docs to check which parameters are required for specific board, e.g. for Cyton - set serial port\n",
    "    parser.add_argument ('--timeout', type = int, help  = 'timeout for device discovery or connection', required = False, default = 0)\n",
    "    parser.add_argument ('--ip-port', type = int, help  = 'ip port', required = False, default = 0)\n",
    "    parser.add_argument ('--ip-protocol', type = int, help  = 'ip protocol, check IpProtocolType enum', required = False, default = 0)\n",
    "    parser.add_argument ('--ip-address', type = str, help  = 'ip address', required = False, default = '')\n",
    "    parser.add_argument ('--serial-port', type = str, help  = 'serial port', required = False, default = '')\n",
    "    parser.add_argument ('--mac-address', type = str, help  = 'mac address', required = False, default = '')\n",
    "    parser.add_argument ('--other-info', type = str, help  = 'other info', required = False, default = '')\n",
    "    parser.add_argument ('--streamer-params', type = str, help  = 'streamer params', required = False, default = '')\n",
    "    parser.add_argument ('--serial-number', type = str, help  = 'serial number', required = False, default = '')\n",
    "    parser.add_argument ('--board-id', type = int, help  = 'board id, check docs to get a list of supported boards', required = True)\n",
    "    parser.add_argument ('--log', action = 'store_true')\n",
    "    args = parser.parse_args ()\n",
    "\n",
    "    params = BrainFlowInputParams ()\n",
    "    params.ip_port = args.ip_port\n",
    "    params.serial_port = args.serial_port\n",
    "    params.mac_address = args.mac_address\n",
    "    params.other_info = args.other_info\n",
    "    params.serial_number = args.serial_number\n",
    "    params.ip_address = args.ip_address\n",
    "    params.ip_protocol = args.ip_protocol\n",
    "    params.timeout = args.timeout\n",
    "\n",
    "    # initialize calibration and time variables\n",
    "    time_thres =  100\n",
    "    sampling_rate = BoardShim.get_sampling_rate (args.board_id)\n",
    "    window = sampling_rate*5 # 5 second window   \n",
    "    flex_thres = 0.8\n",
    "\n",
    "    if (args.log):\n",
    "        BoardShim.enable_dev_board_logger ()\n",
    "    else:\n",
    "        BoardShim.disable_board_logger ()\n",
    "\n",
    "    board = BoardShim (args.board_id, params)\n",
    "    board.prepare_session ()\n",
    "\n",
    "\n",
    "    # turn off SRB2 in Channel 1\n",
    "    if args.board_id == brainflow.board_shim.BoardIds.CYTON_BOARD.value:\n",
    "        board.config_board ('x1060000X')\n",
    "\n",
    "    board.start_stream (45000, args.streamer_params)\n",
    "    time.sleep(10) # wait for data to stabilize\n",
    "\n",
    "    # start game\n",
    "\n",
    "    print(\"Start!\")\n",
    "    prev_time = int(round(time.time() * 1000))\n",
    "\n",
    "    while True:\n",
    "\n",
    "        data = board.get_current_board_data(window) # get data \n",
    "        DataFilter.perform_rolling_filter (data[1], 2, AggOperations.MEAN.value) # denoise data\n",
    "        maximum = max(data[1])\n",
    "        minimum = min(data[1])\n",
    "        norm_data = (data[1,(window-(int)(sampling_rate/2)):(window-1)] - minimum) / (maximum - minimum) # normalize as many samples as needed\n",
    "\n",
    "        if((int(round(time.time() * 1000)) - time_thres) > prev_time): # if enough time has gone by since the last flex\n",
    "            prev_time = int(round(time.time() * 1000)) # update time\n",
    "            for element in norm_data:\n",
    "                if(element >= flex_thres):\n",
    "                    pyautogui.press('space') # jump\n",
    "                    break\n",
    "\n",
    "    board.stop_stream ()\n",
    "    board.release_session ()\n",
    "\n",
    "\n",
    "if __name__ == \"__main__\":\n",
    "    main ()"
   ]
  },
  {
   "cell_type": "markdown",
   "id": "20d82f3c-e69e-431a-a7f0-aee235c3931d",
   "metadata": {},
   "source": [
    "Una vez tenemos el archivo, lo ejecutamos con el siguiente comando:\n",
    "\n",
    "*python <nombre del script> --serial-port /dev/ttyUSB0 --board-id 0*\n",
    "    \n",
    "**Importante:** en caso de utilizar un puerto diferente a /dev/ttyUSB0 se debe de reemplazar en el comando de ejecución."
   ]
  },
  {
   "cell_type": "markdown",
   "id": "07e1e06c-2f34-45a3-b118-477268fc265c",
   "metadata": {},
   "source": [
    "Una vez ejecutado, se debe ver algo similar a la siguiente imagen."
   ]
  },
  {
   "cell_type": "code",
   "execution_count": null,
   "id": "b862b091-43e3-4d94-91d3-662abb210381",
   "metadata": {},
   "outputs": [],
   "source": []
  },
  {
   "cell_type": "markdown",
   "id": "08df3d57-1a7c-437c-b5ba-4922de4e16f6",
   "metadata": {},
   "source": [
    "A continuación, abrimos la pestaña del juego del dinosaurio en Google Chrome por medio de la URL *chrome://dino*.\n",
    "\n",
    "**No es necesario deshabilitar el internet.**"
   ]
  },
  {
   "cell_type": "markdown",
   "id": "1ac14c1c-d763-4e5f-bf92-6c1ffe5b2031",
   "metadata": {},
   "source": [
    "Sí al flexionar el brazo el dinosaurio no salta, deberemos ajustar el umbral. Modificando el multiplicador de porcentaje establecido en 0.5 en el primer script y en el caso del segundo script, modificando la variable *flex_thres*."
   ]
  },
  {
   "cell_type": "markdown",
   "id": "1ed685f1-c55b-4460-b5e7-48e91d09be79",
   "metadata": {},
   "source": [
    "## Ejercicio"
   ]
  },
  {
   "cell_type": "markdown",
   "id": "86397106-e2e5-4f96-ad7c-f724b5a148de",
   "metadata": {},
   "source": [
    "*To do...*"
   ]
  }
 ],
 "metadata": {
  "kernelspec": {
   "display_name": "Python 3 (ipykernel)",
   "language": "python",
   "name": "python3"
  },
  "language_info": {
   "codemirror_mode": {
    "name": "ipython",
    "version": 3
   },
   "file_extension": ".py",
   "mimetype": "text/x-python",
   "name": "python",
   "nbconvert_exporter": "python",
   "pygments_lexer": "ipython3",
   "version": "3.9.13"
  }
 },
 "nbformat": 4,
 "nbformat_minor": 5
}
